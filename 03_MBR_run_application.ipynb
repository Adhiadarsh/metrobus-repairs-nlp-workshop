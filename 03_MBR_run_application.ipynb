{
 "cells": [
  {
   "cell_type": "markdown",
   "metadata": {},
   "source": [
    "## Flask\n",
    "Our API will be served directly from our container using Flask, a popular Python Web Server.\n",
    "The Flask application, which will call our prediction function, is defined in the `wsgi.py` file."
   ]
  },
  {
   "cell_type": "markdown",
   "metadata": {},
   "source": [
    "As always, we'll first run some imports to make sure all our requirements are there:"
   ]
  },
  {
   "cell_type": "code",
   "execution_count": 3,
   "metadata": {
    "ExecuteTime": {
     "end_time": "2021-04-13T19:39:12.918898Z",
     "start_time": "2021-04-13T19:38:57.226296Z"
    }
   },
   "outputs": [
    {
     "name": "stdout",
     "output_type": "stream",
     "text": [
      "Requirement already satisfied: Flask in /opt/app-root/lib/python3.8/site-packages (from -r requirements.txt (line 1)) (2.0.1)\n",
      "Requirement already satisfied: gunicorn>=20.0.0 in /opt/app-root/lib/python3.8/site-packages (from -r requirements.txt (line 2)) (20.1.0)\n",
      "Requirement already satisfied: markovify in /opt/app-root/lib/python3.8/site-packages (from -r requirements.txt (line 3)) (0.9.0)\n",
      "Requirement already satisfied: matplotlib in /opt/app-root/lib/python3.8/site-packages (from -r requirements.txt (line 4)) (3.1.3)\n",
      "Requirement already satisfied: numpy in /opt/app-root/lib/python3.8/site-packages (from -r requirements.txt (line 5)) (1.19.5)\n",
      "Requirement already satisfied: pandas in /opt/app-root/lib/python3.8/site-packages (from -r requirements.txt (line 6)) (0.25.3)\n",
      "Requirement already satisfied: pytest in /opt/app-root/lib/python3.8/site-packages (from -r requirements.txt (line 7)) (6.2.4)\n",
      "Requirement already satisfied: regex in /opt/app-root/lib/python3.8/site-packages (from -r requirements.txt (line 8)) (2021.7.1)\n",
      "Requirement already satisfied: scipy in /opt/app-root/lib/python3.8/site-packages (from -r requirements.txt (line 9)) (1.6.2)\n",
      "Requirement already satisfied: seaborn in /opt/app-root/lib/python3.8/site-packages (from -r requirements.txt (line 10)) (0.11.1)\n",
      "Requirement already satisfied: spacy in /opt/app-root/lib/python3.8/site-packages (from -r requirements.txt (line 11)) (3.0.6)\n",
      "Requirement already satisfied: tensorflow_hub in /opt/app-root/lib/python3.8/site-packages (from -r requirements.txt (line 12)) (0.12.0)\n",
      "Requirement already satisfied: wrapt in /opt/app-root/lib/python3.8/site-packages (from -r requirements.txt (line 13)) (1.12.1)\n",
      "Requirement already satisfied: setuptools>=3.0 in /opt/app-root/lib/python3.8/site-packages (from gunicorn>=20.0.0->-r requirements.txt (line 2)) (57.0.0)\n",
      "Requirement already satisfied: Werkzeug>=2.0 in /opt/app-root/lib/python3.8/site-packages (from Flask->-r requirements.txt (line 1)) (2.0.1)\n",
      "Requirement already satisfied: click>=7.1.2 in /opt/app-root/lib/python3.8/site-packages (from Flask->-r requirements.txt (line 1)) (7.1.2)\n",
      "Requirement already satisfied: itsdangerous>=2.0 in /opt/app-root/lib/python3.8/site-packages (from Flask->-r requirements.txt (line 1)) (2.0.1)\n",
      "Requirement already satisfied: Jinja2>=3.0 in /opt/app-root/lib/python3.8/site-packages (from Flask->-r requirements.txt (line 1)) (3.0.1)\n",
      "Requirement already satisfied: MarkupSafe>=2.0 in /opt/app-root/lib/python3.8/site-packages (from Jinja2>=3.0->Flask->-r requirements.txt (line 1)) (2.0.1)\n",
      "Requirement already satisfied: unidecode in /opt/app-root/lib/python3.8/site-packages (from markovify->-r requirements.txt (line 3)) (1.2.0)\n",
      "Requirement already satisfied: cycler>=0.10 in /opt/app-root/lib/python3.8/site-packages (from matplotlib->-r requirements.txt (line 4)) (0.10.0)\n",
      "Requirement already satisfied: python-dateutil>=2.1 in /opt/app-root/lib/python3.8/site-packages (from matplotlib->-r requirements.txt (line 4)) (2.8.1)\n",
      "Requirement already satisfied: kiwisolver>=1.0.1 in /opt/app-root/lib/python3.8/site-packages (from matplotlib->-r requirements.txt (line 4)) (1.3.1)\n",
      "Requirement already satisfied: pyparsing!=2.0.4,!=2.1.2,!=2.1.6,>=2.0.1 in /opt/app-root/lib/python3.8/site-packages (from matplotlib->-r requirements.txt (line 4)) (2.4.7)\n",
      "Requirement already satisfied: six in /opt/app-root/lib/python3.8/site-packages (from cycler>=0.10->matplotlib->-r requirements.txt (line 4)) (1.15.0)\n",
      "Requirement already satisfied: pytz>=2017.2 in /opt/app-root/lib/python3.8/site-packages (from pandas->-r requirements.txt (line 6)) (2021.1)\n",
      "Requirement already satisfied: packaging in /opt/app-root/lib/python3.8/site-packages (from pytest->-r requirements.txt (line 7)) (20.9)\n",
      "Requirement already satisfied: iniconfig in /opt/app-root/lib/python3.8/site-packages (from pytest->-r requirements.txt (line 7)) (1.1.1)\n",
      "Requirement already satisfied: pluggy<1.0.0a1,>=0.12 in /opt/app-root/lib/python3.8/site-packages (from pytest->-r requirements.txt (line 7)) (0.13.1)\n",
      "Requirement already satisfied: toml in /opt/app-root/lib/python3.8/site-packages (from pytest->-r requirements.txt (line 7)) (0.10.2)\n",
      "Requirement already satisfied: py>=1.8.2 in /opt/app-root/lib/python3.8/site-packages (from pytest->-r requirements.txt (line 7)) (1.10.0)\n",
      "Requirement already satisfied: attrs>=19.2.0 in /opt/app-root/lib/python3.8/site-packages (from pytest->-r requirements.txt (line 7)) (20.3.0)\n",
      "Requirement already satisfied: catalogue<2.1.0,>=2.0.3 in /opt/app-root/lib/python3.8/site-packages (from spacy->-r requirements.txt (line 11)) (2.0.4)\n",
      "Requirement already satisfied: tqdm<5.0.0,>=4.38.0 in /opt/app-root/lib/python3.8/site-packages (from spacy->-r requirements.txt (line 11)) (4.61.1)\n",
      "Requirement already satisfied: pathy>=0.3.5 in /opt/app-root/lib/python3.8/site-packages (from spacy->-r requirements.txt (line 11)) (0.6.0)\n",
      "Requirement already satisfied: cymem<2.1.0,>=2.0.2 in /opt/app-root/lib/python3.8/site-packages (from spacy->-r requirements.txt (line 11)) (2.0.5)\n",
      "Requirement already satisfied: blis<0.8.0,>=0.4.0 in /opt/app-root/lib/python3.8/site-packages (from spacy->-r requirements.txt (line 11)) (0.7.4)\n",
      "Requirement already satisfied: thinc<8.1.0,>=8.0.3 in /opt/app-root/lib/python3.8/site-packages (from spacy->-r requirements.txt (line 11)) (8.0.7)\n",
      "Requirement already satisfied: murmurhash<1.1.0,>=0.28.0 in /opt/app-root/lib/python3.8/site-packages (from spacy->-r requirements.txt (line 11)) (1.0.5)\n",
      "Requirement already satisfied: wasabi<1.1.0,>=0.8.1 in /opt/app-root/lib/python3.8/site-packages (from spacy->-r requirements.txt (line 11)) (0.8.2)\n",
      "Requirement already satisfied: srsly<3.0.0,>=2.4.1 in /opt/app-root/lib/python3.8/site-packages (from spacy->-r requirements.txt (line 11)) (2.4.1)\n",
      "Requirement already satisfied: typer<0.4.0,>=0.3.0 in /opt/app-root/lib/python3.8/site-packages (from spacy->-r requirements.txt (line 11)) (0.3.2)\n",
      "Requirement already satisfied: spacy-legacy<3.1.0,>=3.0.4 in /opt/app-root/lib/python3.8/site-packages (from spacy->-r requirements.txt (line 11)) (3.0.6)\n",
      "Requirement already satisfied: preshed<3.1.0,>=3.0.2 in /opt/app-root/lib/python3.8/site-packages (from spacy->-r requirements.txt (line 11)) (3.0.5)\n",
      "Requirement already satisfied: requests<3.0.0,>=2.13.0 in /opt/app-root/lib/python3.8/site-packages (from spacy->-r requirements.txt (line 11)) (2.25.1)\n",
      "Requirement already satisfied: pydantic<1.8.0,>=1.7.1 in /opt/app-root/lib/python3.8/site-packages (from spacy->-r requirements.txt (line 11)) (1.7.4)\n",
      "Requirement already satisfied: smart-open<6.0.0,>=5.0.0 in /opt/app-root/lib/python3.8/site-packages (from pathy>=0.3.5->spacy->-r requirements.txt (line 11)) (5.1.0)\n",
      "Requirement already satisfied: chardet<5,>=3.0.2 in /opt/app-root/lib/python3.8/site-packages (from requests<3.0.0,>=2.13.0->spacy->-r requirements.txt (line 11)) (4.0.0)\n",
      "Requirement already satisfied: idna<3,>=2.5 in /opt/app-root/lib/python3.8/site-packages (from requests<3.0.0,>=2.13.0->spacy->-r requirements.txt (line 11)) (2.10)\n",
      "Requirement already satisfied: urllib3<1.27,>=1.21.1 in /opt/app-root/lib/python3.8/site-packages (from requests<3.0.0,>=2.13.0->spacy->-r requirements.txt (line 11)) (1.26.4)\n",
      "Requirement already satisfied: certifi>=2017.4.17 in /opt/app-root/lib/python3.8/site-packages (from requests<3.0.0,>=2.13.0->spacy->-r requirements.txt (line 11)) (2020.12.5)\n",
      "Requirement already satisfied: protobuf>=3.8.0 in /opt/app-root/lib/python3.8/site-packages (from tensorflow_hub->-r requirements.txt (line 12)) (3.15.7)\n"
     ]
    }
   ],
   "source": [
    "import sys\n",
    "!{sys.executable} -m pip install -r requirements.txt"
   ]
  },
  {
   "cell_type": "markdown",
   "metadata": {},
   "source": [
    "Now that we have everything in place, we can launch the Flask application.\n",
    "\n",
    "(Please ignore the CUDA errors of warning if you don't have any GPU).\n",
    "\n",
    "This cell will be in a **permanent running state**. That's normal as the webserver process will keep running. When you are **finished** with the test you can just select the cell, and click on the **Stop button** (next to Run)."
   ]
  },
  {
   "cell_type": "code",
   "execution_count": null,
   "metadata": {
    "ExecuteTime": {
     "end_time": "2021-04-13T20:22:18.706055Z",
     "start_time": "2021-04-13T20:12:31.112873Z"
    }
   },
   "outputs": [
    {
     "name": "stdout",
     "output_type": "stream",
     "text": [
      " * Serving Flask app 'wsgi.py' (lazy loading)\n",
      " * Environment: development\n",
      " * Debug mode: on\n",
      "2021-07-02 22:15:57.063699: I tensorflow/stream_executor/platform/default/dso_loader.cc:49] Successfully opened dynamic library libcudart.so.11.0\n",
      "2021-07-02 22:15:58.387746: I tensorflow/compiler/jit/xla_cpu_device.cc:41] Not creating XLA devices, tf_xla_enable_xla_devices not set\n",
      "2021-07-02 22:15:58.388182: W tensorflow/stream_executor/platform/default/dso_loader.cc:60] Could not load dynamic library 'libcuda.so.1'; dlerror: libcuda.so.1: cannot open shared object file: No such file or directory; LD_LIBRARY_PATH: /usr/local/nvidia/lib:/usr/local/nvidia/lib64\n",
      "2021-07-02 22:15:58.388205: W tensorflow/stream_executor/cuda/cuda_driver.cc:326] failed call to cuInit: UNKNOWN ERROR (303)\n",
      "2021-07-02 22:15:58.388375: I tensorflow/stream_executor/cuda/cuda_diagnostics.cc:156] kernel driver does not appear to be running on this host (jupyterhub-nb-adrezni): /proc/driver/nvidia/version does not exist\n",
      "2021-07-02 22:15:58.388579: I tensorflow/core/platform/cpu_feature_guard.cc:142] This TensorFlow binary is optimized with oneAPI Deep Neural Network Library (oneDNN) to use the following CPU instructions in performance-critical operations:  AVX2 AVX512F FMA\n",
      "To enable them in other operations, rebuild TensorFlow with the appropriate compiler flags.\n",
      "2021-07-02 22:15:58.390645: I tensorflow/compiler/jit/xla_gpu_device.cc:99] Not creating XLA devices, tf_xla_enable_xla_devices not set\n",
      "2021-07-02 22:15:58.451038: I tensorflow/compiler/mlir/mlir_graph_optimization_pass.cc:116] None of the MLIR optimization passes are enabled (registered 2)\n",
      "2021-07-02 22:15:58.462959: I tensorflow/core/platform/profile_utils/cpu_utils.cc:112] CPU Frequency: 2500000000 Hz\n",
      "Epoch 1/2\n",
      "23/23 [==============================] - 1s 29ms/step - loss: 0.9393 - accuracy: 0.5740 - val_loss: 0.5292 - val_accuracy: 0.9875\n",
      "Epoch 2/2\n",
      "23/23 [==============================] - 0s 5ms/step - loss: 0.4193 - accuracy: 0.9657 - val_loss: 0.2131 - val_accuracy: 1.0000\n",
      "7/7 [==============================] - 0s 946us/step - loss: 0.2308 - accuracy: 0.9600\n",
      " * Running on http://127.0.0.1:5000/ (Press CTRL+C to quit)\n",
      " * Restarting with stat\n",
      " * Debugger is active!\n",
      " * Debugger PIN: 701-725-111\n",
      "2021-07-02 22:16:05.813178: I tensorflow/stream_executor/platform/default/dso_loader.cc:49] Successfully opened dynamic library libcudart.so.11.0\n",
      "2021-07-02 22:16:07.205102: I tensorflow/compiler/jit/xla_cpu_device.cc:41] Not creating XLA devices, tf_xla_enable_xla_devices not set\n",
      "2021-07-02 22:16:07.205300: W tensorflow/stream_executor/platform/default/dso_loader.cc:60] Could not load dynamic library 'libcuda.so.1'; dlerror: libcuda.so.1: cannot open shared object file: No such file or directory; LD_LIBRARY_PATH: /usr/local/nvidia/lib:/usr/local/nvidia/lib64\n",
      "2021-07-02 22:16:07.205323: W tensorflow/stream_executor/cuda/cuda_driver.cc:326] failed call to cuInit: UNKNOWN ERROR (303)\n",
      "2021-07-02 22:16:07.205358: I tensorflow/stream_executor/cuda/cuda_diagnostics.cc:156] kernel driver does not appear to be running on this host (jupyterhub-nb-adrezni): /proc/driver/nvidia/version does not exist\n",
      "2021-07-02 22:16:07.205559: I tensorflow/core/platform/cpu_feature_guard.cc:142] This TensorFlow binary is optimized with oneAPI Deep Neural Network Library (oneDNN) to use the following CPU instructions in performance-critical operations:  AVX2 AVX512F FMA\n",
      "To enable them in other operations, rebuild TensorFlow with the appropriate compiler flags.\n",
      "2021-07-02 22:16:07.207192: I tensorflow/compiler/jit/xla_gpu_device.cc:99] Not creating XLA devices, tf_xla_enable_xla_devices not set\n",
      "2021-07-02 22:16:07.267364: I tensorflow/compiler/mlir/mlir_graph_optimization_pass.cc:116] None of the MLIR optimization passes are enabled (registered 2)\n",
      "2021-07-02 22:16:07.267836: I tensorflow/core/platform/profile_utils/cpu_utils.cc:112] CPU Frequency: 2500000000 Hz\n",
      "Epoch 1/2\n",
      "23/23 [==============================] - 1s 33ms/step - loss: 0.9751 - accuracy: 0.5677 - val_loss: 0.5361 - val_accuracy: 0.9625\n",
      "Epoch 2/2\n",
      "23/23 [==============================] - 0s 5ms/step - loss: 0.4434 - accuracy: 0.9457 - val_loss: 0.2178 - val_accuracy: 0.9875\n",
      "7/7 [==============================] - 0s 877us/step - loss: 0.2524 - accuracy: 0.9550\n",
      "127.0.0.1 - - [02/Jul/2021 22:16:32] \"GET /status HTTP/1.1\" 200 -\n",
      "127.0.0.1 - - [02/Jul/2021 22:16:36] \"\u001b[33mPOST /predictions HTTP/1.1\u001b[0m\" 404 -\n",
      "127.0.0.1 - - [02/Jul/2021 22:16:40] \"\u001b[35m\u001b[1mPOST /prediction HTTP/1.1\u001b[0m\" 500 -\n",
      "Traceback (most recent call last):\n",
      "  File \"/opt/app-root/lib/python3.8/site-packages/flask/app.py\", line 2088, in __call__\n",
      "    return self.wsgi_app(environ, start_response)\n",
      "  File \"/opt/app-root/lib/python3.8/site-packages/flask/app.py\", line 2073, in wsgi_app\n",
      "    response = self.handle_exception(e)\n",
      "  File \"/opt/app-root/lib/python3.8/site-packages/flask/app.py\", line 2070, in wsgi_app\n",
      "    response = self.full_dispatch_request()\n",
      "  File \"/opt/app-root/lib/python3.8/site-packages/flask/app.py\", line 1515, in full_dispatch_request\n",
      "    rv = self.handle_user_exception(e)\n",
      "  File \"/opt/app-root/lib/python3.8/site-packages/flask/app.py\", line 1513, in full_dispatch_request\n",
      "    rv = self.dispatch_request()\n",
      "  File \"/opt/app-root/lib/python3.8/site-packages/flask/app.py\", line 1499, in dispatch_request\n",
      "    return self.ensure_sync(self.view_functions[rule.endpoint])(**req.view_args)\n",
      "  File \"/opt/app-root/src/metrobus-repairs-nlp-workshop/wsgi.py\", line 16, in object_detection\n",
      "    body = json.loads(data)\n",
      "  File \"/usr/lib64/python3.8/json/__init__.py\", line 357, in loads\n",
      "    return _default_decoder.decode(s)\n",
      "  File \"/usr/lib64/python3.8/json/decoder.py\", line 337, in decode\n",
      "    obj, end = self.raw_decode(s, idx=_w(s, 0).end())\n",
      "  File \"/usr/lib64/python3.8/json/decoder.py\", line 353, in raw_decode\n",
      "    obj, end = self.scan_once(s, idx)\n",
      "json.decoder.JSONDecodeError: Expecting ':' delimiter: line 1 column 35 (char 34)\n",
      "WARNING:tensorflow:Model was constructed with shape (None, 1000) for input KerasTensor(type_spec=TensorSpec(shape=(None, 1000), dtype=tf.float32, name='dense_input'), name='dense_input', description=\"created by layer 'dense_input'\"), but it was called on an input with incompatible shape (None, 1, 1000).\n",
      "127.0.0.1 - - [02/Jul/2021 22:22:24] \"POST /prediction HTTP/1.1\" 200 -\n",
      "127.0.0.1 - - [02/Jul/2021 22:22:45] \"POST /prediction HTTP/1.1\" 200 -\n",
      "127.0.0.1 - - [02/Jul/2021 22:23:00] \"POST /prediction HTTP/1.1\" 200 -\n"
     ]
    }
   ],
   "source": [
    "!FLASK_ENV=development FLASK_APP=wsgi.py flask run"
   ]
  },
  {
   "cell_type": "markdown",
   "metadata": {},
   "source": [
    "Once the models have been loaded, our server is ready to take requests. Leave this notebook running,and open `04_MBR_test_application.ipynb`."
   ]
  }
 ],
 "metadata": {
  "finalized": {
   "timestamp": 1618345356814,
   "trusted": true
  },
  "kernelspec": {
   "display_name": "Python 3",
   "language": "python",
   "name": "python3"
  },
  "language_info": {
   "codemirror_mode": {
    "name": "ipython",
    "version": 3
   },
   "file_extension": ".py",
   "mimetype": "text/x-python",
   "name": "python",
   "nbconvert_exporter": "python",
   "pygments_lexer": "ipython3",
   "version": "3.8.6"
  },
  "toc": {
   "base_numbering": 1,
   "nav_menu": {},
   "number_sections": true,
   "sideBar": true,
   "skip_h1_title": false,
   "title_cell": "Table of Contents",
   "title_sidebar": "Contents",
   "toc_cell": false,
   "toc_position": {},
   "toc_section_display": true,
   "toc_window_display": false
  }
 },
 "nbformat": 4,
 "nbformat_minor": 4
}
